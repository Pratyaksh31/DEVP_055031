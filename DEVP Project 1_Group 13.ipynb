{
 "cells": [
  {
   "cell_type": "markdown",
   "id": "3d9fd44a-4127-4eb4-a9a0-cbbb1e3c0a86",
   "metadata": {
    "id": "3d9fd44a-4127-4eb4-a9a0-cbbb1e3c0a86"
   },
   "source": [
    "**Project Information**\n",
    "\n",
    "\n",
    "**Project Tile-**  Detailed Imports and Exports Dataset with Comprehensive Transaction Information\n",
    "\n",
    "\n",
    "**Name-**  Pratyaksh Chauhan, Somyadeep Das\n",
    "\n",
    "\n",
    "**Roll-Number-** 055011, 055048\n",
    "\n",
    "\n",
    "**Group-Number-**  13\n",
    "\n",
    "\n",
    "---"
   ]
  },
  {
   "cell_type": "markdown",
   "id": "9fb2b36f-7ddd-4d93-b90a-93d59950e02e",
   "metadata": {
    "id": "9fb2b36f-7ddd-4d93-b90a-93d59950e02e"
   },
   "source": [
    "**Description Of Project**\n",
    "\n",
    "*  **Data Source & Size-**  Kaggle/1MB\n",
    "*  **Data Type-** Panel\n",
    "*  **Data Dimensions-** 15000, 16\n",
    "*  **Data Variable Type-** Object, Int, Float\n",
    "*  **Data Variable Category-**\n",
    "\n",
    "    * **Index-** Transaction_ID, Customs_Code, Invoice_Number, Product, Supplier, Customer\n",
    "  \n",
    "    * **Non-Categorical-** Quantity, Value, Date, Port, Weight\n",
    "  \n",
    "    * **Categorical-Ordinal-**  NONE\n",
    "  \n",
    "  \n",
    "    * **Categorical-Nominal-** Import_Export, Category, Shipping_Method, Payment_Terms, Country\n",
    "\n",
    "  "
   ]
  },
  {
   "cell_type": "code",
   "execution_count": 26,
   "id": "a15c9b20-a41d-40dc-877b-de42091c8cb5",
   "metadata": {
    "id": "a15c9b20-a41d-40dc-877b-de42091c8cb5"
   },
   "outputs": [],
   "source": [
    "# Import Relevant Python Libraries.\n",
    "import pandas as pd\n",
    "import numpy as np\n",
    "from scipy import stats\n",
    "from scipy.stats import skew\n",
    "from scipy.stats import kurtosis"
   ]
  },
  {
   "cell_type": "code",
   "execution_count": 28,
   "id": "1f097f27-a3e3-4840-a436-84355a0410b3",
   "metadata": {
    "id": "1f097f27-a3e3-4840-a436-84355a0410b3"
   },
   "outputs": [],
   "source": [
    "#Load the Data.\n",
    "import_export= pd.read_csv('/Users/pratyakshchauhan/Downloads/Imports_Exports_Dataset.csv')"
   ]
  },
  {
   "cell_type": "code",
   "execution_count": 30,
   "id": "486522b0-7669-45e8-ab19-8f83aefcd831",
   "metadata": {
    "colab": {
     "base_uri": "https://localhost:8080/"
    },
    "id": "486522b0-7669-45e8-ab19-8f83aefcd831",
    "outputId": "3cdaefe6-82c7-482c-a09d-b811c4366013"
   },
   "outputs": [
    {
     "data": {
      "text/plain": [
       "(15000, 16)"
      ]
     },
     "execution_count": 30,
     "metadata": {},
     "output_type": "execute_result"
    }
   ],
   "source": [
    "#Data Dimensions\n",
    "import_export.shape"
   ]
  },
  {
   "cell_type": "code",
   "execution_count": 32,
   "id": "3bb97264-b938-458b-9103-fe0fc4d4cce8",
   "metadata": {
    "colab": {
     "base_uri": "https://localhost:8080/",
     "height": 585
    },
    "id": "3bb97264-b938-458b-9103-fe0fc4d4cce8",
    "outputId": "22385858-85a5-4762-cee0-e533bdb5032b"
   },
   "outputs": [
    {
     "data": {
      "text/plain": [
       "Transaction_ID      object\n",
       "Country             object\n",
       "Product             object\n",
       "Import_Export       object\n",
       "Quantity             int64\n",
       "Value              float64\n",
       "Date                object\n",
       "Category            object\n",
       "Port                object\n",
       "Customs_Code         int64\n",
       "Weight             float64\n",
       "Shipping_Method     object\n",
       "Supplier            object\n",
       "Customer            object\n",
       "Invoice_Number       int64\n",
       "Payment_Terms       object\n",
       "dtype: object"
      ]
     },
     "execution_count": 32,
     "metadata": {},
     "output_type": "execute_result"
    }
   ],
   "source": [
    "#Data Variable Type\n",
    "import_export.dtypes"
   ]
  },
  {
   "cell_type": "code",
   "execution_count": 34,
   "id": "3df8e5ca-e682-407a-b26d-5f6a3367ec0b",
   "metadata": {
    "id": "3df8e5ca-e682-407a-b26d-5f6a3367ec0b"
   },
   "outputs": [],
   "source": [
    "#Identify & List the following Variables:\n",
    "# 1. Index Variables- Transaction_ID, Customs_Code, Invoice_Number, Product, Supplier, Customer\n",
    "# 2. Non-Categorical Variables- Quantity, Value, Date, Port, Weight\n",
    "# 3. Ordinal Variables-\n",
    "# 4. Nominal Variables- Import_Export, Category, Shipping_Method, Payment_Terms, Country"
   ]
  },
  {
   "cell_type": "markdown",
   "id": "9e2f2625-3833-400a-83cf-3eef2f398f61",
   "metadata": {
    "id": "9e2f2625-3833-400a-83cf-3eef2f398f61"
   },
   "source": [
    "---"
   ]
  },
  {
   "cell_type": "markdown",
   "id": "04f186b3-1b21-4ac0-970d-6669bd2f7bfc",
   "metadata": {
    "id": "04f186b3-1b21-4ac0-970d-6669bd2f7bfc"
   },
   "source": [
    "**Objectives**\n",
    "\n",
    "* Understanding Trade Patterns\n",
    "* Examine Product and Category Trends\n",
    "* Assess Customer and Supplier Activity\n",
    "* Investigate correlations between key variables (e.g., value, weight, quantity) to gain deeper insights into trade dynamics.\n",
    "* Analyze the efficiency of different shipping methods in terms of weight, cost, and frequency of usage.\n",
    "\n",
    "\n",
    "**Problem Statement**\n",
    "\n",
    "\n",
    "The purpose of this analysis is to explore global trade dynamics by examining patterns in international imports and exports. Key areas of focus include understanding trade trends, identifying the most active countries and product categories, and analyzing the role of key customers and suppliers. The analysis will assess product categories to determine their contribution to trade volume and value, while also comparing imports and exports across different categories. Additionally, the relationship between key variables such as transaction value, quantity, and weight will be investigated to identify potential correlations. Another area of interest is the efficiency of shipping methods, evaluating them in terms of cost, weight, and frequency of usage to determine the most effective options for different trade scenarios. This comprehensive analysis aims to provide actionable insights for optimizing trade performance and logistics.\n",
    "\n",
    "\n",
    "\n",
    "\n",
    "\n",
    "\n",
    "---\n"
   ]
  },
  {
   "cell_type": "markdown",
   "id": "0695f820-7859-4842-888b-b4b5a4f68232",
   "metadata": {
    "id": "0695f820-7859-4842-888b-b4b5a4f68232"
   },
   "source": [
    "**Analysis Of Data**"
   ]
  },
  {
   "cell_type": "code",
   "execution_count": 39,
   "id": "3c6e5550-5f0e-441b-b705-9fb95fc319f3",
   "metadata": {
    "colab": {
     "base_uri": "https://localhost:8080/",
     "height": 247
    },
    "id": "3c6e5550-5f0e-441b-b705-9fb95fc319f3",
    "outputId": "860d2cdb-8f90-423b-9b17-7747e33cb589"
   },
   "outputs": [
    {
     "data": {
      "text/html": [
       "<div>\n",
       "<style scoped>\n",
       "    .dataframe tbody tr th:only-of-type {\n",
       "        vertical-align: middle;\n",
       "    }\n",
       "\n",
       "    .dataframe tbody tr th {\n",
       "        vertical-align: top;\n",
       "    }\n",
       "\n",
       "    .dataframe thead th {\n",
       "        text-align: right;\n",
       "    }\n",
       "</style>\n",
       "<table border=\"1\" class=\"dataframe\">\n",
       "  <thead>\n",
       "    <tr style=\"text-align: right;\">\n",
       "      <th></th>\n",
       "      <th>Transaction_ID</th>\n",
       "      <th>Country</th>\n",
       "      <th>Product</th>\n",
       "      <th>Import_Export</th>\n",
       "      <th>Quantity</th>\n",
       "      <th>Value</th>\n",
       "      <th>Date</th>\n",
       "      <th>Category</th>\n",
       "      <th>Port</th>\n",
       "      <th>Customs_Code</th>\n",
       "      <th>Weight</th>\n",
       "      <th>Shipping_Method</th>\n",
       "      <th>Supplier</th>\n",
       "      <th>Customer</th>\n",
       "      <th>Invoice_Number</th>\n",
       "      <th>Payment_Terms</th>\n",
       "    </tr>\n",
       "  </thead>\n",
       "  <tbody>\n",
       "    <tr>\n",
       "      <th>14815</th>\n",
       "      <td>c9b92da7-8db8-4167-b4c9-2b94a4416c44</td>\n",
       "      <td>Bolivia</td>\n",
       "      <td>ready</td>\n",
       "      <td>Export</td>\n",
       "      <td>284</td>\n",
       "      <td>5364.51</td>\n",
       "      <td>11/01/22</td>\n",
       "      <td>Clothing</td>\n",
       "      <td>Washingtonchester</td>\n",
       "      <td>923677</td>\n",
       "      <td>135.74</td>\n",
       "      <td>Sea</td>\n",
       "      <td>Price, Burgess and Guerra</td>\n",
       "      <td>Sally Walker</td>\n",
       "      <td>44802928</td>\n",
       "      <td>Prepaid</td>\n",
       "    </tr>\n",
       "    <tr>\n",
       "      <th>12842</th>\n",
       "      <td>50d1babc-2a52-40e5-82c9-24cb856d2b0d</td>\n",
       "      <td>Denmark</td>\n",
       "      <td>visit</td>\n",
       "      <td>Export</td>\n",
       "      <td>3932</td>\n",
       "      <td>9599.03</td>\n",
       "      <td>05/03/20</td>\n",
       "      <td>Machinery</td>\n",
       "      <td>New Jacobbury</td>\n",
       "      <td>767841</td>\n",
       "      <td>1083.80</td>\n",
       "      <td>Land</td>\n",
       "      <td>Rodriguez LLC</td>\n",
       "      <td>Karen Padilla</td>\n",
       "      <td>55245802</td>\n",
       "      <td>Cash on Delivery</td>\n",
       "    </tr>\n",
       "    <tr>\n",
       "      <th>1953</th>\n",
       "      <td>e5007181-5481-4307-993c-47c3f953249a</td>\n",
       "      <td>Moldova</td>\n",
       "      <td>federal</td>\n",
       "      <td>Export</td>\n",
       "      <td>4923</td>\n",
       "      <td>3772.58</td>\n",
       "      <td>27/02/20</td>\n",
       "      <td>Furniture</td>\n",
       "      <td>New James</td>\n",
       "      <td>213710</td>\n",
       "      <td>2828.18</td>\n",
       "      <td>Land</td>\n",
       "      <td>Price PLC</td>\n",
       "      <td>Robert Hartman</td>\n",
       "      <td>27808101</td>\n",
       "      <td>Net 30</td>\n",
       "    </tr>\n",
       "  </tbody>\n",
       "</table>\n",
       "</div>"
      ],
      "text/plain": [
       "                             Transaction_ID  Country  Product Import_Export  \\\n",
       "14815  c9b92da7-8db8-4167-b4c9-2b94a4416c44  Bolivia    ready        Export   \n",
       "12842  50d1babc-2a52-40e5-82c9-24cb856d2b0d  Denmark    visit        Export   \n",
       "1953   e5007181-5481-4307-993c-47c3f953249a  Moldova  federal        Export   \n",
       "\n",
       "       Quantity    Value      Date   Category               Port  \\\n",
       "14815       284  5364.51  11/01/22   Clothing  Washingtonchester   \n",
       "12842      3932  9599.03  05/03/20  Machinery      New Jacobbury   \n",
       "1953       4923  3772.58  27/02/20  Furniture          New James   \n",
       "\n",
       "       Customs_Code   Weight Shipping_Method                   Supplier  \\\n",
       "14815        923677   135.74             Sea  Price, Burgess and Guerra   \n",
       "12842        767841  1083.80            Land              Rodriguez LLC   \n",
       "1953         213710  2828.18            Land                  Price PLC   \n",
       "\n",
       "             Customer  Invoice_Number     Payment_Terms  \n",
       "14815    Sally Walker        44802928           Prepaid  \n",
       "12842   Karen Padilla        55245802  Cash on Delivery  \n",
       "1953   Robert Hartman        27808101            Net 30  "
      ]
     },
     "execution_count": 39,
     "metadata": {},
     "output_type": "execute_result"
    }
   ],
   "source": [
    "#Create a unique sample\n",
    "my_data = import_export.sample(n=2001, replace= False, random_state=55031)\n",
    "my_data.head(3)"
   ]
  },
  {
   "cell_type": "code",
   "execution_count": 41,
   "id": "c28d3b7d-4141-4a27-8f5b-b5c3ae4213f2",
   "metadata": {
    "colab": {
     "base_uri": "https://localhost:8080/"
    },
    "id": "c28d3b7d-4141-4a27-8f5b-b5c3ae4213f2",
    "outputId": "80eab662-7785-467c-8723-25dfac4ada59"
   },
   "outputs": [
    {
     "data": {
      "text/plain": [
       "(2001, 16)"
      ]
     },
     "execution_count": 41,
     "metadata": {},
     "output_type": "execute_result"
    }
   ],
   "source": [
    "#Dimension\n",
    "my_data.shape"
   ]
  },
  {
   "cell_type": "code",
   "execution_count": 43,
   "id": "_tRTbnLplo6P",
   "metadata": {
    "colab": {
     "base_uri": "https://localhost:8080/",
     "height": 206
    },
    "id": "_tRTbnLplo6P",
    "outputId": "3aec733b-ef23-457a-a694-81d3a12d6d0e"
   },
   "outputs": [
    {
     "data": {
      "text/html": [
       "<div>\n",
       "<style scoped>\n",
       "    .dataframe tbody tr th:only-of-type {\n",
       "        vertical-align: middle;\n",
       "    }\n",
       "\n",
       "    .dataframe tbody tr th {\n",
       "        vertical-align: top;\n",
       "    }\n",
       "\n",
       "    .dataframe thead th {\n",
       "        text-align: right;\n",
       "    }\n",
       "</style>\n",
       "<table border=\"1\" class=\"dataframe\">\n",
       "  <thead>\n",
       "    <tr style=\"text-align: right;\">\n",
       "      <th></th>\n",
       "      <th>Category</th>\n",
       "      <th>Kurtosis_Value</th>\n",
       "      <th>Kurtosis_Weight</th>\n",
       "      <th>Kurtosis_Quantity</th>\n",
       "    </tr>\n",
       "  </thead>\n",
       "  <tbody>\n",
       "    <tr>\n",
       "      <th>0</th>\n",
       "      <td>Clothing</td>\n",
       "      <td>-1.293823</td>\n",
       "      <td>-1.275639</td>\n",
       "      <td>-1.177957</td>\n",
       "    </tr>\n",
       "    <tr>\n",
       "      <th>1</th>\n",
       "      <td>Electronics</td>\n",
       "      <td>-1.189191</td>\n",
       "      <td>-1.220034</td>\n",
       "      <td>-1.223701</td>\n",
       "    </tr>\n",
       "    <tr>\n",
       "      <th>2</th>\n",
       "      <td>Furniture</td>\n",
       "      <td>-1.171496</td>\n",
       "      <td>-1.174237</td>\n",
       "      <td>-1.186870</td>\n",
       "    </tr>\n",
       "    <tr>\n",
       "      <th>3</th>\n",
       "      <td>Machinery</td>\n",
       "      <td>-1.206063</td>\n",
       "      <td>-1.315093</td>\n",
       "      <td>-1.199331</td>\n",
       "    </tr>\n",
       "    <tr>\n",
       "      <th>4</th>\n",
       "      <td>Toys</td>\n",
       "      <td>-1.194869</td>\n",
       "      <td>-1.162095</td>\n",
       "      <td>-1.229323</td>\n",
       "    </tr>\n",
       "  </tbody>\n",
       "</table>\n",
       "</div>"
      ],
      "text/plain": [
       "      Category  Kurtosis_Value  Kurtosis_Weight  Kurtosis_Quantity\n",
       "0     Clothing       -1.293823        -1.275639          -1.177957\n",
       "1  Electronics       -1.189191        -1.220034          -1.223701\n",
       "2    Furniture       -1.171496        -1.174237          -1.186870\n",
       "3    Machinery       -1.206063        -1.315093          -1.199331\n",
       "4         Toys       -1.194869        -1.162095          -1.229323"
      ]
     },
     "execution_count": 43,
     "metadata": {},
     "output_type": "execute_result"
    }
   ],
   "source": [
    "#kurtosis\n",
    "category_kurtosis = my_data.groupby('Category').agg({\n",
    "    'Value': lambda x: kurtosis(x, nan_policy='omit'),    # Kurtosis for Value\n",
    "    'Weight': lambda x: kurtosis(x, nan_policy='omit'),   # Kurtosis for Weight\n",
    "    'Quantity': lambda x: kurtosis(x, nan_policy='omit')  # Kurtosis for Quantity\n",
    "}).reset_index()\n",
    "\n",
    "# Rename columns for better readability\n",
    "category_kurtosis.columns = ['Category', 'Kurtosis_Value', 'Kurtosis_Weight', 'Kurtosis_Quantity']\n",
    "\n",
    "# Output the result\n",
    "category_kurtosis"
   ]
  },
  {
   "cell_type": "code",
   "execution_count": 45,
   "id": "ipNsPvRVtFaL",
   "metadata": {
    "colab": {
     "base_uri": "https://localhost:8080/",
     "height": 206
    },
    "id": "ipNsPvRVtFaL",
    "outputId": "a9c3dac6-374b-40e5-a758-d0dc05f3c190"
   },
   "outputs": [
    {
     "data": {
      "text/html": [
       "<div>\n",
       "<style scoped>\n",
       "    .dataframe tbody tr th:only-of-type {\n",
       "        vertical-align: middle;\n",
       "    }\n",
       "\n",
       "    .dataframe tbody tr th {\n",
       "        vertical-align: top;\n",
       "    }\n",
       "\n",
       "    .dataframe thead th {\n",
       "        text-align: right;\n",
       "    }\n",
       "</style>\n",
       "<table border=\"1\" class=\"dataframe\">\n",
       "  <thead>\n",
       "    <tr style=\"text-align: right;\">\n",
       "      <th></th>\n",
       "      <th>Category</th>\n",
       "      <th>Skew_Value</th>\n",
       "      <th>Skew_Weight</th>\n",
       "      <th>Skew_Quantity</th>\n",
       "    </tr>\n",
       "  </thead>\n",
       "  <tbody>\n",
       "    <tr>\n",
       "      <th>0</th>\n",
       "      <td>Clothing</td>\n",
       "      <td>-0.016226</td>\n",
       "      <td>0.126137</td>\n",
       "      <td>-0.000156</td>\n",
       "    </tr>\n",
       "    <tr>\n",
       "      <th>1</th>\n",
       "      <td>Electronics</td>\n",
       "      <td>-0.075877</td>\n",
       "      <td>0.023286</td>\n",
       "      <td>0.047667</td>\n",
       "    </tr>\n",
       "    <tr>\n",
       "      <th>2</th>\n",
       "      <td>Furniture</td>\n",
       "      <td>-0.026904</td>\n",
       "      <td>-0.053094</td>\n",
       "      <td>0.027755</td>\n",
       "    </tr>\n",
       "    <tr>\n",
       "      <th>3</th>\n",
       "      <td>Machinery</td>\n",
       "      <td>0.091309</td>\n",
       "      <td>0.010221</td>\n",
       "      <td>0.056153</td>\n",
       "    </tr>\n",
       "    <tr>\n",
       "      <th>4</th>\n",
       "      <td>Toys</td>\n",
       "      <td>-0.027890</td>\n",
       "      <td>0.041218</td>\n",
       "      <td>0.045256</td>\n",
       "    </tr>\n",
       "  </tbody>\n",
       "</table>\n",
       "</div>"
      ],
      "text/plain": [
       "      Category  Skew_Value  Skew_Weight  Skew_Quantity\n",
       "0     Clothing   -0.016226     0.126137      -0.000156\n",
       "1  Electronics   -0.075877     0.023286       0.047667\n",
       "2    Furniture   -0.026904    -0.053094       0.027755\n",
       "3    Machinery    0.091309     0.010221       0.056153\n",
       "4         Toys   -0.027890     0.041218       0.045256"
      ]
     },
     "execution_count": 45,
     "metadata": {},
     "output_type": "execute_result"
    }
   ],
   "source": [
    "#skewness\n",
    "category_skew = my_data.groupby('Category').agg({\n",
    "    'Value': lambda x: skew(x, nan_policy='omit'),    # Skew for Value\n",
    "    'Weight': lambda x: skew(x, nan_policy='omit'),   # Skew for Weight\n",
    "    'Quantity': lambda x: skew(x, nan_policy='omit')  # Skew for Quantity\n",
    "}).reset_index()\n",
    "\n",
    "# Rename columns for better readability\n",
    "category_skew.columns = ['Category', 'Skew_Value', 'Skew_Weight', 'Skew_Quantity']\n",
    "\n",
    "# Output the result\n",
    "category_skew"
   ]
  },
  {
   "cell_type": "code",
   "execution_count": 47,
   "id": "0Se0BpZXaE44",
   "metadata": {
    "colab": {
     "base_uri": "https://localhost:8080/",
     "height": 487
    },
    "id": "0Se0BpZXaE44",
    "outputId": "dfba2bbe-5924-49f6-aea8-80018241b5cf"
   },
   "outputs": [
    {
     "name": "stderr",
     "output_type": "stream",
     "text": [
      "/var/folders/0k/z2n60yd12t17w93sm1_0gp040000gn/T/ipykernel_10516/4217491113.py:2: FutureWarning: The provided callable <function sum at 0x108a03560> is currently using SeriesGroupBy.sum. In a future version of pandas, the provided callable will be used directly. To keep current behavior pass the string \"sum\" instead.\n",
      "  product_trade = my_data.groupby(['Product', 'Import_Export']).agg({'Quantity': np.sum, 'Value': np.sum})\n",
      "/var/folders/0k/z2n60yd12t17w93sm1_0gp040000gn/T/ipykernel_10516/4217491113.py:2: FutureWarning: The provided callable <function sum at 0x108a03560> is currently using SeriesGroupBy.sum. In a future version of pandas, the provided callable will be used directly. To keep current behavior pass the string \"sum\" instead.\n",
      "  product_trade = my_data.groupby(['Product', 'Import_Export']).agg({'Quantity': np.sum, 'Value': np.sum})\n"
     ]
    },
    {
     "data": {
      "text/html": [
       "<div>\n",
       "<style scoped>\n",
       "    .dataframe tbody tr th:only-of-type {\n",
       "        vertical-align: middle;\n",
       "    }\n",
       "\n",
       "    .dataframe tbody tr th {\n",
       "        vertical-align: top;\n",
       "    }\n",
       "\n",
       "    .dataframe thead th {\n",
       "        text-align: right;\n",
       "    }\n",
       "</style>\n",
       "<table border=\"1\" class=\"dataframe\">\n",
       "  <thead>\n",
       "    <tr style=\"text-align: right;\">\n",
       "      <th></th>\n",
       "      <th></th>\n",
       "      <th>Quantity</th>\n",
       "      <th>Value</th>\n",
       "    </tr>\n",
       "    <tr>\n",
       "      <th>Product</th>\n",
       "      <th>Import_Export</th>\n",
       "      <th></th>\n",
       "      <th></th>\n",
       "    </tr>\n",
       "  </thead>\n",
       "  <tbody>\n",
       "    <tr>\n",
       "      <th>necessary</th>\n",
       "      <th>Import</th>\n",
       "      <td>37245</td>\n",
       "      <td>38179.09</td>\n",
       "    </tr>\n",
       "    <tr>\n",
       "      <th>letter</th>\n",
       "      <th>Import</th>\n",
       "      <td>27684</td>\n",
       "      <td>37524.66</td>\n",
       "    </tr>\n",
       "    <tr>\n",
       "      <th>effort</th>\n",
       "      <th>Import</th>\n",
       "      <td>23434</td>\n",
       "      <td>33756.16</td>\n",
       "    </tr>\n",
       "    <tr>\n",
       "      <th>world</th>\n",
       "      <th>Export</th>\n",
       "      <td>9839</td>\n",
       "      <td>29661.66</td>\n",
       "    </tr>\n",
       "    <tr>\n",
       "      <th>onto</th>\n",
       "      <th>Export</th>\n",
       "      <td>22742</td>\n",
       "      <td>29201.16</td>\n",
       "    </tr>\n",
       "    <tr>\n",
       "      <th>southern</th>\n",
       "      <th>Export</th>\n",
       "      <td>26253</td>\n",
       "      <td>28920.88</td>\n",
       "    </tr>\n",
       "    <tr>\n",
       "      <th>lawyer</th>\n",
       "      <th>Import</th>\n",
       "      <td>33581</td>\n",
       "      <td>28808.57</td>\n",
       "    </tr>\n",
       "    <tr>\n",
       "      <th>food</th>\n",
       "      <th>Export</th>\n",
       "      <td>19811</td>\n",
       "      <td>27287.01</td>\n",
       "    </tr>\n",
       "    <tr>\n",
       "      <th>produce</th>\n",
       "      <th>Import</th>\n",
       "      <td>9157</td>\n",
       "      <td>27054.75</td>\n",
       "    </tr>\n",
       "    <tr>\n",
       "      <th>security</th>\n",
       "      <th>Export</th>\n",
       "      <td>22038</td>\n",
       "      <td>26639.43</td>\n",
       "    </tr>\n",
       "  </tbody>\n",
       "</table>\n",
       "</div>"
      ],
      "text/plain": [
       "                         Quantity     Value\n",
       "Product   Import_Export                    \n",
       "necessary Import            37245  38179.09\n",
       "letter    Import            27684  37524.66\n",
       "effort    Import            23434  33756.16\n",
       "world     Export             9839  29661.66\n",
       "onto      Export            22742  29201.16\n",
       "southern  Export            26253  28920.88\n",
       "lawyer    Import            33581  28808.57\n",
       "food      Export            19811  27287.01\n",
       "produce   Import             9157  27054.75\n",
       "security  Export            22038  26639.43"
      ]
     },
     "execution_count": 47,
     "metadata": {},
     "output_type": "execute_result"
    }
   ],
   "source": [
    "# Group by Product and Import_Export to calculate total quantity and value\n",
    "product_trade = my_data.groupby(['Product', 'Import_Export']).agg({'Quantity': np.sum, 'Value': np.sum})\n",
    "\n",
    "# Sort products by total value in descending order\n",
    "sorted_product_trade = product_trade.sort_values(by='Value', ascending=False)\n",
    "\n",
    "# Show the top 10 products by value\n",
    "sorted_product_trade.head(10)"
   ]
  },
  {
   "cell_type": "code",
   "execution_count": 49,
   "id": "JbcEtJXopp8d",
   "metadata": {
    "colab": {
     "base_uri": "https://localhost:8080/",
     "height": 224
    },
    "id": "JbcEtJXopp8d",
    "outputId": "58a59bb8-997b-442e-e10e-61a2a63bfc14"
   },
   "outputs": [
    {
     "name": "stdout",
     "output_type": "stream",
     "text": [
      "Most Preferred Shipping Method by Category:\n"
     ]
    },
    {
     "data": {
      "text/html": [
       "<div>\n",
       "<style scoped>\n",
       "    .dataframe tbody tr th:only-of-type {\n",
       "        vertical-align: middle;\n",
       "    }\n",
       "\n",
       "    .dataframe tbody tr th {\n",
       "        vertical-align: top;\n",
       "    }\n",
       "\n",
       "    .dataframe thead th {\n",
       "        text-align: right;\n",
       "    }\n",
       "</style>\n",
       "<table border=\"1\" class=\"dataframe\">\n",
       "  <thead>\n",
       "    <tr style=\"text-align: right;\">\n",
       "      <th></th>\n",
       "      <th>Category</th>\n",
       "      <th>Shipping_Method</th>\n",
       "      <th>Count</th>\n",
       "    </tr>\n",
       "  </thead>\n",
       "  <tbody>\n",
       "    <tr>\n",
       "      <th>1</th>\n",
       "      <td>Clothing</td>\n",
       "      <td>Land</td>\n",
       "      <td>146</td>\n",
       "    </tr>\n",
       "    <tr>\n",
       "      <th>4</th>\n",
       "      <td>Electronics</td>\n",
       "      <td>Land</td>\n",
       "      <td>132</td>\n",
       "    </tr>\n",
       "    <tr>\n",
       "      <th>8</th>\n",
       "      <td>Furniture</td>\n",
       "      <td>Sea</td>\n",
       "      <td>136</td>\n",
       "    </tr>\n",
       "    <tr>\n",
       "      <th>9</th>\n",
       "      <td>Machinery</td>\n",
       "      <td>Air</td>\n",
       "      <td>145</td>\n",
       "    </tr>\n",
       "    <tr>\n",
       "      <th>14</th>\n",
       "      <td>Toys</td>\n",
       "      <td>Sea</td>\n",
       "      <td>138</td>\n",
       "    </tr>\n",
       "  </tbody>\n",
       "</table>\n",
       "</div>"
      ],
      "text/plain": [
       "       Category Shipping_Method  Count\n",
       "1      Clothing            Land    146\n",
       "4   Electronics            Land    132\n",
       "8     Furniture             Sea    136\n",
       "9     Machinery             Air    145\n",
       "14         Toys             Sea    138"
      ]
     },
     "execution_count": 49,
     "metadata": {},
     "output_type": "execute_result"
    }
   ],
   "source": [
    "# Group the data by Category and Shipping Method to count occurrences\n",
    "shipping_preference = my_data.groupby(['Category', 'Shipping_Method']).size().reset_index(name='Count')\n",
    "\n",
    "#For each category, finding the shipping method with the highest count (most preferred)\n",
    "most_preferred_shipping = shipping_preference.loc[shipping_preference.groupby('Category')['Count'].idxmax()]\n",
    "\n",
    "#finding out each category's most preferred shipping method, finding the product that uses it most.\n",
    "\n",
    "# Join this data back with the original data to check which products use the most preferred shipping method\n",
    "data_with_most_preferred = pd.merge(my_data, most_preferred_shipping[['Category', 'Shipping_Method']],\n",
    "                                    on=['Category', 'Shipping_Method'], how='inner')\n",
    "\n",
    "# Count the number of times each product uses the most preferred shipping method\n",
    "product_usage = data_with_most_preferred.groupby(['Category', 'Product']).size().reset_index(name='Usage')\n",
    "\n",
    "# For each category, find the product that uses the most preferred shipping method the most\n",
    "top_product_by_category = product_usage.loc[product_usage.groupby('Category')['Usage'].idxmax()]\n",
    "\n",
    "# Output the results\n",
    "print(\"Most Preferred Shipping Method by Category:\")\n",
    "most_preferred_shipping"
   ]
  },
  {
   "cell_type": "code",
   "execution_count": 51,
   "id": "jCNltUqzZbA9",
   "metadata": {
    "colab": {
     "base_uri": "https://localhost:8080/",
     "height": 206
    },
    "id": "jCNltUqzZbA9",
    "outputId": "cf42247d-0404-43df-ac44-b44d359bd86b"
   },
   "outputs": [
    {
     "data": {
      "text/html": [
       "<div>\n",
       "<style scoped>\n",
       "    .dataframe tbody tr th:only-of-type {\n",
       "        vertical-align: middle;\n",
       "    }\n",
       "\n",
       "    .dataframe tbody tr th {\n",
       "        vertical-align: top;\n",
       "    }\n",
       "\n",
       "    .dataframe thead th {\n",
       "        text-align: right;\n",
       "    }\n",
       "</style>\n",
       "<table border=\"1\" class=\"dataframe\">\n",
       "  <thead>\n",
       "    <tr style=\"text-align: right;\">\n",
       "      <th></th>\n",
       "      <th>Quantity</th>\n",
       "      <th>Value</th>\n",
       "      <th>Customs_Code</th>\n",
       "      <th>Weight</th>\n",
       "      <th>Invoice_Number</th>\n",
       "    </tr>\n",
       "  </thead>\n",
       "  <tbody>\n",
       "    <tr>\n",
       "      <th>Quantity</th>\n",
       "      <td>1.000000</td>\n",
       "      <td>0.001560</td>\n",
       "      <td>-0.002024</td>\n",
       "      <td>-0.009153</td>\n",
       "      <td>-0.054371</td>\n",
       "    </tr>\n",
       "    <tr>\n",
       "      <th>Value</th>\n",
       "      <td>0.001560</td>\n",
       "      <td>1.000000</td>\n",
       "      <td>0.033579</td>\n",
       "      <td>-0.005871</td>\n",
       "      <td>0.032345</td>\n",
       "    </tr>\n",
       "    <tr>\n",
       "      <th>Customs_Code</th>\n",
       "      <td>-0.002024</td>\n",
       "      <td>0.033579</td>\n",
       "      <td>1.000000</td>\n",
       "      <td>-0.003825</td>\n",
       "      <td>0.008164</td>\n",
       "    </tr>\n",
       "    <tr>\n",
       "      <th>Weight</th>\n",
       "      <td>-0.009153</td>\n",
       "      <td>-0.005871</td>\n",
       "      <td>-0.003825</td>\n",
       "      <td>1.000000</td>\n",
       "      <td>0.013291</td>\n",
       "    </tr>\n",
       "    <tr>\n",
       "      <th>Invoice_Number</th>\n",
       "      <td>-0.054371</td>\n",
       "      <td>0.032345</td>\n",
       "      <td>0.008164</td>\n",
       "      <td>0.013291</td>\n",
       "      <td>1.000000</td>\n",
       "    </tr>\n",
       "  </tbody>\n",
       "</table>\n",
       "</div>"
      ],
      "text/plain": [
       "                Quantity     Value  Customs_Code    Weight  Invoice_Number\n",
       "Quantity        1.000000  0.001560     -0.002024 -0.009153       -0.054371\n",
       "Value           0.001560  1.000000      0.033579 -0.005871        0.032345\n",
       "Customs_Code   -0.002024  0.033579      1.000000 -0.003825        0.008164\n",
       "Weight         -0.009153 -0.005871     -0.003825  1.000000        0.013291\n",
       "Invoice_Number -0.054371  0.032345      0.008164  0.013291        1.000000"
      ]
     },
     "execution_count": 51,
     "metadata": {},
     "output_type": "execute_result"
    }
   ],
   "source": [
    "#correlation of data \n",
    "my_data.corr( numeric_only = True)"
   ]
  },
  {
   "cell_type": "code",
   "execution_count": 53,
   "id": "593ebfe2-7f2e-4387-8a66-f14e9909e4c6",
   "metadata": {
    "colab": {
     "base_uri": "https://localhost:8080/",
     "height": 143
    },
    "id": "593ebfe2-7f2e-4387-8a66-f14e9909e4c6",
    "outputId": "40ae0ab8-2a39-4a42-f2fe-97abaa1def30"
   },
   "outputs": [
    {
     "data": {
      "text/html": [
       "<div>\n",
       "<style scoped>\n",
       "    .dataframe tbody tr th:only-of-type {\n",
       "        vertical-align: middle;\n",
       "    }\n",
       "\n",
       "    .dataframe tbody tr th {\n",
       "        vertical-align: top;\n",
       "    }\n",
       "\n",
       "    .dataframe thead th {\n",
       "        text-align: right;\n",
       "    }\n",
       "</style>\n",
       "<table border=\"1\" class=\"dataframe\">\n",
       "  <thead>\n",
       "    <tr style=\"text-align: right;\">\n",
       "      <th></th>\n",
       "      <th>Quantity</th>\n",
       "      <th>Value</th>\n",
       "      <th>Date</th>\n",
       "      <th>Port</th>\n",
       "      <th>Weight</th>\n",
       "    </tr>\n",
       "  </thead>\n",
       "  <tbody>\n",
       "    <tr>\n",
       "      <th>14815</th>\n",
       "      <td>284</td>\n",
       "      <td>5364.51</td>\n",
       "      <td>11/01/22</td>\n",
       "      <td>Washingtonchester</td>\n",
       "      <td>135.74</td>\n",
       "    </tr>\n",
       "    <tr>\n",
       "      <th>12842</th>\n",
       "      <td>3932</td>\n",
       "      <td>9599.03</td>\n",
       "      <td>05/03/20</td>\n",
       "      <td>New Jacobbury</td>\n",
       "      <td>1083.80</td>\n",
       "    </tr>\n",
       "    <tr>\n",
       "      <th>1953</th>\n",
       "      <td>4923</td>\n",
       "      <td>3772.58</td>\n",
       "      <td>27/02/20</td>\n",
       "      <td>New James</td>\n",
       "      <td>2828.18</td>\n",
       "    </tr>\n",
       "  </tbody>\n",
       "</table>\n",
       "</div>"
      ],
      "text/plain": [
       "       Quantity    Value      Date               Port   Weight\n",
       "14815       284  5364.51  11/01/22  Washingtonchester   135.74\n",
       "12842      3932  9599.03  05/03/20      New Jacobbury  1083.80\n",
       "1953       4923  3772.58  27/02/20          New James  2828.18"
      ]
     },
     "execution_count": 53,
     "metadata": {},
     "output_type": "execute_result"
    }
   ],
   "source": [
    "# Subset the Non-Categorical Variables.\n",
    "non_cat= my_data[['Quantity', 'Value','Date', 'Port', 'Weight']]\n",
    "non_cat.head(3)"
   ]
  },
  {
   "cell_type": "code",
   "execution_count": 55,
   "id": "1c63c285-652f-4b4c-84b9-3204680cd9b1",
   "metadata": {
    "colab": {
     "base_uri": "https://localhost:8080/",
     "height": 300
    },
    "id": "1c63c285-652f-4b4c-84b9-3204680cd9b1",
    "outputId": "f659aa30-6fd9-4515-a84f-afa0b1aa7eee"
   },
   "outputs": [
    {
     "data": {
      "text/html": [
       "<div>\n",
       "<style scoped>\n",
       "    .dataframe tbody tr th:only-of-type {\n",
       "        vertical-align: middle;\n",
       "    }\n",
       "\n",
       "    .dataframe tbody tr th {\n",
       "        vertical-align: top;\n",
       "    }\n",
       "\n",
       "    .dataframe thead th {\n",
       "        text-align: right;\n",
       "    }\n",
       "</style>\n",
       "<table border=\"1\" class=\"dataframe\">\n",
       "  <thead>\n",
       "    <tr style=\"text-align: right;\">\n",
       "      <th></th>\n",
       "      <th>Quantity</th>\n",
       "      <th>Value</th>\n",
       "      <th>Weight</th>\n",
       "    </tr>\n",
       "  </thead>\n",
       "  <tbody>\n",
       "    <tr>\n",
       "      <th>count</th>\n",
       "      <td>2001.000000</td>\n",
       "      <td>2001.000000</td>\n",
       "      <td>2001.000000</td>\n",
       "    </tr>\n",
       "    <tr>\n",
       "      <th>mean</th>\n",
       "      <td>4926.496752</td>\n",
       "      <td>5106.925147</td>\n",
       "      <td>2482.853958</td>\n",
       "    </tr>\n",
       "    <tr>\n",
       "      <th>std</th>\n",
       "      <td>2890.445278</td>\n",
       "      <td>2866.661523</td>\n",
       "      <td>1450.865032</td>\n",
       "    </tr>\n",
       "    <tr>\n",
       "      <th>min</th>\n",
       "      <td>5.000000</td>\n",
       "      <td>102.120000</td>\n",
       "      <td>7.680000</td>\n",
       "    </tr>\n",
       "    <tr>\n",
       "      <th>25%</th>\n",
       "      <td>2446.000000</td>\n",
       "      <td>2575.150000</td>\n",
       "      <td>1230.880000</td>\n",
       "    </tr>\n",
       "    <tr>\n",
       "      <th>50%</th>\n",
       "      <td>4878.000000</td>\n",
       "      <td>5138.730000</td>\n",
       "      <td>2455.180000</td>\n",
       "    </tr>\n",
       "    <tr>\n",
       "      <th>75%</th>\n",
       "      <td>7445.000000</td>\n",
       "      <td>7558.550000</td>\n",
       "      <td>3771.280000</td>\n",
       "    </tr>\n",
       "    <tr>\n",
       "      <th>max</th>\n",
       "      <td>9995.000000</td>\n",
       "      <td>9996.720000</td>\n",
       "      <td>4984.600000</td>\n",
       "    </tr>\n",
       "  </tbody>\n",
       "</table>\n",
       "</div>"
      ],
      "text/plain": [
       "          Quantity        Value       Weight\n",
       "count  2001.000000  2001.000000  2001.000000\n",
       "mean   4926.496752  5106.925147  2482.853958\n",
       "std    2890.445278  2866.661523  1450.865032\n",
       "min       5.000000   102.120000     7.680000\n",
       "25%    2446.000000  2575.150000  1230.880000\n",
       "50%    4878.000000  5138.730000  2455.180000\n",
       "75%    7445.000000  7558.550000  3771.280000\n",
       "max    9995.000000  9996.720000  4984.600000"
      ]
     },
     "execution_count": 55,
     "metadata": {},
     "output_type": "execute_result"
    }
   ],
   "source": [
    "#Descriptive Statistics of the Non-Categorical Set\n",
    "non_cat.describe()"
   ]
  },
  {
   "cell_type": "code",
   "execution_count": 57,
   "id": "oTgtsdUcoZDM",
   "metadata": {
    "colab": {
     "base_uri": "https://localhost:8080/"
    },
    "id": "oTgtsdUcoZDM",
    "outputId": "db17f269-d6b9-41dc-abce-ba3b7eb7bc61"
   },
   "outputs": [
    {
     "name": "stdout",
     "output_type": "stream",
     "text": [
      "{'Confidence Interval for Quantity': (4799.77469792247, 5053.218805325905), 'Confidence Interval for Value': (4981.245814126314, 5232.604480726259), 'Confidence Interval for Weight': (2419.2455590565896, 2546.46235698539)}\n"
     ]
    }
   ],
   "source": [
    "# calculate the confidence interval for the variables Quantity, Value and Weight.\n",
    "def confidence_interval(data, confidence=0.95):\n",
    "    n = len(data)\n",
    "    mean = np.mean(data)\n",
    "    stderr = stats.sem(data)  # Standard error of the mean\n",
    "    margin_of_error = stderr * stats.t.ppf((1 + confidence) / 2, n - 1)  # t-distribution critical value\n",
    "    return (mean - margin_of_error, mean + margin_of_error)\n",
    "\n",
    "# Assuming 'data' is your dataframe\n",
    "# Calculate confidence intervals for 'Quantity', 'Value', and 'Weight'\n",
    "ci_quantity = confidence_interval(my_data['Quantity'])\n",
    "ci_value = confidence_interval(my_data['Value'])\n",
    "ci_weight = confidence_interval(my_data['Weight'])\n",
    "\n",
    "# Output the results\n",
    "ci_results = {\n",
    "    'Confidence Interval for Quantity': ci_quantity,\n",
    "    'Confidence Interval for Value': ci_value,\n",
    "    'Confidence Interval for Weight': ci_weight\n",
    "}\n",
    "\n",
    "print(ci_results)"
   ]
  },
  {
   "cell_type": "code",
   "execution_count": 59,
   "id": "7XZmPAO0sPY1",
   "metadata": {
    "colab": {
     "base_uri": "https://localhost:8080/"
    },
    "id": "7XZmPAO0sPY1",
    "outputId": "92f1fa61-f201-4f83-af4c-47d1cbb4e01b"
   },
   "outputs": [
    {
     "name": "stdout",
     "output_type": "stream",
     "text": [
      "f_test, p_val\n"
     ]
    },
    {
     "data": {
      "text/plain": [
       "(1187.0783572675496, 4.9557020095517177e-228)"
      ]
     },
     "execution_count": 59,
     "metadata": {},
     "output_type": "execute_result"
    }
   ],
   "source": [
    "#f-test\n",
    "f_stat, p_val_f = stats.levene(my_data['Quantity'], my_data['Weight'])\n",
    "print(\"f_test, p_val\")\n",
    "f_stat,p_val_f"
   ]
  },
  {
   "cell_type": "code",
   "execution_count": 61,
   "id": "h_DLZa0PuNt4",
   "metadata": {
    "colab": {
     "base_uri": "https://localhost:8080/"
    },
    "id": "h_DLZa0PuNt4",
    "outputId": "20dc2307-fb3f-4b68-ac74-297210af2485"
   },
   "outputs": [
    {
     "name": "stdout",
     "output_type": "stream",
     "text": [
      "t_test, p_val\n"
     ]
    },
    {
     "data": {
      "text/plain": [
       "(75.00886089307869, 0.0)"
      ]
     },
     "execution_count": 61,
     "metadata": {},
     "output_type": "execute_result"
    }
   ],
   "source": [
    "#t-test\n",
    "t_stat, p_val = stats.ttest_1samp(my_data['Weight'], 50)\n",
    "print(\"t_test, p_val\")\n",
    "t_stat, p_val"
   ]
  },
  {
   "cell_type": "code",
   "execution_count": 63,
   "id": "f3e4b909-6bb7-4cb6-a4a1-371db764423f",
   "metadata": {
    "colab": {
     "base_uri": "https://localhost:8080/",
     "height": 143
    },
    "id": "f3e4b909-6bb7-4cb6-a4a1-371db764423f",
    "outputId": "753ff7fe-67a2-41f7-879d-64aa517ba039"
   },
   "outputs": [
    {
     "data": {
      "text/html": [
       "<div>\n",
       "<style scoped>\n",
       "    .dataframe tbody tr th:only-of-type {\n",
       "        vertical-align: middle;\n",
       "    }\n",
       "\n",
       "    .dataframe tbody tr th {\n",
       "        vertical-align: top;\n",
       "    }\n",
       "\n",
       "    .dataframe thead th {\n",
       "        text-align: right;\n",
       "    }\n",
       "</style>\n",
       "<table border=\"1\" class=\"dataframe\">\n",
       "  <thead>\n",
       "    <tr style=\"text-align: right;\">\n",
       "      <th></th>\n",
       "      <th>Import_Export</th>\n",
       "      <th>Category</th>\n",
       "      <th>Shipping_Method</th>\n",
       "      <th>Payment_Terms</th>\n",
       "      <th>Country</th>\n",
       "    </tr>\n",
       "  </thead>\n",
       "  <tbody>\n",
       "    <tr>\n",
       "      <th>14815</th>\n",
       "      <td>Export</td>\n",
       "      <td>Clothing</td>\n",
       "      <td>Sea</td>\n",
       "      <td>Prepaid</td>\n",
       "      <td>Bolivia</td>\n",
       "    </tr>\n",
       "    <tr>\n",
       "      <th>12842</th>\n",
       "      <td>Export</td>\n",
       "      <td>Machinery</td>\n",
       "      <td>Land</td>\n",
       "      <td>Cash on Delivery</td>\n",
       "      <td>Denmark</td>\n",
       "    </tr>\n",
       "    <tr>\n",
       "      <th>1953</th>\n",
       "      <td>Export</td>\n",
       "      <td>Furniture</td>\n",
       "      <td>Land</td>\n",
       "      <td>Net 30</td>\n",
       "      <td>Moldova</td>\n",
       "    </tr>\n",
       "  </tbody>\n",
       "</table>\n",
       "</div>"
      ],
      "text/plain": [
       "      Import_Export   Category Shipping_Method     Payment_Terms  Country\n",
       "14815        Export   Clothing             Sea           Prepaid  Bolivia\n",
       "12842        Export  Machinery            Land  Cash on Delivery  Denmark\n",
       "1953         Export  Furniture            Land            Net 30  Moldova"
      ]
     },
     "execution_count": 63,
     "metadata": {},
     "output_type": "execute_result"
    }
   ],
   "source": [
    "#Subset the Categorical Variables.\n",
    "catg= my_data[['Import_Export', 'Category', 'Shipping_Method', 'Payment_Terms', 'Country']]\n",
    "catg.head(3)"
   ]
  },
  {
   "cell_type": "code",
   "execution_count": 65,
   "id": "3fa16668-c9b9-47ac-9fb9-3f73e58f9c34",
   "metadata": {
    "colab": {
     "base_uri": "https://localhost:8080/",
     "height": 246
    },
    "id": "3fa16668-c9b9-47ac-9fb9-3f73e58f9c34",
    "outputId": "442ef293-a5ee-4b59-9547-078ac93d29e2"
   },
   "outputs": [
    {
     "name": "stdout",
     "output_type": "stream",
     "text": [
      "Count for different shipment methods\n",
      "\n"
     ]
    },
    {
     "data": {
      "text/plain": [
       "Shipping_Method\n",
       "Sea     675\n",
       "Land    675\n",
       "Air     651\n",
       "Name: count, dtype: int64"
      ]
     },
     "execution_count": 65,
     "metadata": {},
     "output_type": "execute_result"
    }
   ],
   "source": [
    "#the Descriptive Statistics Categorical Variable.\n",
    "print(\"Count for different shipment methods\\n\")\n",
    "catg['Shipping_Method'].value_counts()"
   ]
  },
  {
   "cell_type": "code",
   "execution_count": 67,
   "id": "6FR1sntBeE4U",
   "metadata": {
    "colab": {
     "base_uri": "https://localhost:8080/",
     "height": 277
    },
    "id": "6FR1sntBeE4U",
    "outputId": "61ed6796-341a-46be-918e-6d78728c47e5"
   },
   "outputs": [
    {
     "name": "stdout",
     "output_type": "stream",
     "text": [
      "Proprtion for differnt payment methods\n",
      "\n"
     ]
    },
    {
     "data": {
      "text/plain": [
       "Payment_Terms\n",
       "Net 60              0.262369\n",
       "Cash on Delivery    0.258371\n",
       "Prepaid             0.242879\n",
       "Net 30              0.236382\n",
       "Name: proportion, dtype: float64"
      ]
     },
     "execution_count": 67,
     "metadata": {},
     "output_type": "execute_result"
    }
   ],
   "source": [
    "#proportion for different payment methods\n",
    "print(\"Proprtion for differnt payment methods\\n\")\n",
    "catg['Payment_Terms'].value_counts(normalize = True)"
   ]
  },
  {
   "cell_type": "code",
   "execution_count": 69,
   "id": "9Vzkz6oPp0NH",
   "metadata": {
    "colab": {
     "base_uri": "https://localhost:8080/",
     "height": 388
    },
    "id": "9Vzkz6oPp0NH",
    "outputId": "4916c85a-960a-4f9f-c100-a749135a1508"
   },
   "outputs": [
    {
     "name": "stderr",
     "output_type": "stream",
     "text": [
      "/var/folders/0k/z2n60yd12t17w93sm1_0gp040000gn/T/ipykernel_10516/3132223435.py:2: FutureWarning: The provided callable <function sum at 0x108a03560> is currently using SeriesGroupBy.sum. In a future version of pandas, the provided callable will be used directly. To keep current behavior pass the string \"sum\" instead.\n",
      "  payment_terms_trade = my_data.groupby(['Payment_Terms', 'Import_Export']).agg({'Value': np.sum})\n"
     ]
    },
    {
     "data": {
      "text/html": [
       "<div>\n",
       "<style scoped>\n",
       "    .dataframe tbody tr th:only-of-type {\n",
       "        vertical-align: middle;\n",
       "    }\n",
       "\n",
       "    .dataframe tbody tr th {\n",
       "        vertical-align: top;\n",
       "    }\n",
       "\n",
       "    .dataframe thead th {\n",
       "        text-align: right;\n",
       "    }\n",
       "</style>\n",
       "<table border=\"1\" class=\"dataframe\">\n",
       "  <thead>\n",
       "    <tr style=\"text-align: right;\">\n",
       "      <th></th>\n",
       "      <th></th>\n",
       "      <th>Value</th>\n",
       "    </tr>\n",
       "    <tr>\n",
       "      <th>Payment_Terms</th>\n",
       "      <th>Import_Export</th>\n",
       "      <th></th>\n",
       "    </tr>\n",
       "  </thead>\n",
       "  <tbody>\n",
       "    <tr>\n",
       "      <th>Net 60</th>\n",
       "      <th>Import</th>\n",
       "      <td>1394458.87</td>\n",
       "    </tr>\n",
       "    <tr>\n",
       "      <th rowspan=\"2\" valign=\"top\">Cash on Delivery</th>\n",
       "      <th>Export</th>\n",
       "      <td>1356614.64</td>\n",
       "    </tr>\n",
       "    <tr>\n",
       "      <th>Import</th>\n",
       "      <td>1344257.79</td>\n",
       "    </tr>\n",
       "    <tr>\n",
       "      <th>Prepaid</th>\n",
       "      <th>Export</th>\n",
       "      <td>1314567.74</td>\n",
       "    </tr>\n",
       "    <tr>\n",
       "      <th>Net 30</th>\n",
       "      <th>Import</th>\n",
       "      <td>1288974.55</td>\n",
       "    </tr>\n",
       "    <tr>\n",
       "      <th>Net 60</th>\n",
       "      <th>Export</th>\n",
       "      <td>1282760.62</td>\n",
       "    </tr>\n",
       "    <tr>\n",
       "      <th>Prepaid</th>\n",
       "      <th>Import</th>\n",
       "      <td>1192726.64</td>\n",
       "    </tr>\n",
       "    <tr>\n",
       "      <th>Net 30</th>\n",
       "      <th>Export</th>\n",
       "      <td>1044596.37</td>\n",
       "    </tr>\n",
       "  </tbody>\n",
       "</table>\n",
       "</div>"
      ],
      "text/plain": [
       "                                     Value\n",
       "Payment_Terms    Import_Export            \n",
       "Net 60           Import         1394458.87\n",
       "Cash on Delivery Export         1356614.64\n",
       "                 Import         1344257.79\n",
       "Prepaid          Export         1314567.74\n",
       "Net 30           Import         1288974.55\n",
       "Net 60           Export         1282760.62\n",
       "Prepaid          Import         1192726.64\n",
       "Net 30           Export         1044596.37"
      ]
     },
     "execution_count": 69,
     "metadata": {},
     "output_type": "execute_result"
    }
   ],
   "source": [
    "# Group by Payment_Terms and Import_Export to calculate total value\n",
    "payment_terms_trade = my_data.groupby(['Payment_Terms', 'Import_Export']).agg({'Value': np.sum})\n",
    "\n",
    "# Sort payment terms by total value in descending order\n",
    "sorted_payment_terms_trade = payment_terms_trade.sort_values(by='Value', ascending=False)\n",
    "\n",
    "# Show the payment terms associated with high-value transactions\n",
    "sorted_payment_terms_trade.head(10)"
   ]
  },
  {
   "cell_type": "code",
   "execution_count": 71,
   "id": "_QauUukpeKE2",
   "metadata": {
    "colab": {
     "base_uri": "https://localhost:8080/",
     "height": 214
    },
    "id": "_QauUukpeKE2",
    "outputId": "a9c2c2b5-afed-4650-9167-8e4874bf0416"
   },
   "outputs": [
    {
     "name": "stdout",
     "output_type": "stream",
     "text": [
      "Total import v/s exports\n",
      "\n"
     ]
    },
    {
     "data": {
      "text/plain": [
       "Import_Export\n",
       "Import    1040\n",
       "Export     961\n",
       "Name: count, dtype: int64"
      ]
     },
     "execution_count": 71,
     "metadata": {},
     "output_type": "execute_result"
    }
   ],
   "source": [
    "#import v/s export\n",
    "print(\"Total import v/s exports\\n\")\n",
    "catg['Import_Export'].value_counts()"
   ]
  },
  {
   "cell_type": "code",
   "execution_count": 73,
   "id": "93dcd38b-1429-4b81-9d66-1146925795df",
   "metadata": {
    "colab": {
     "base_uri": "https://localhost:8080/",
     "height": 508
    },
    "id": "93dcd38b-1429-4b81-9d66-1146925795df",
    "outputId": "bf16d1db-ac27-47f1-89f6-f2a86808971f"
   },
   "outputs": [
    {
     "name": "stdout",
     "output_type": "stream",
     "text": [
      "Total values of export and import values country wise\n"
     ]
    },
    {
     "data": {
      "text/plain": [
       "Country      Import_Export\n",
       "Afghanistan  Export           10159.07\n",
       "             Import           12010.74\n",
       "Albania      Export           19135.58\n",
       "             Import           23752.51\n",
       "Algeria      Export           32951.83\n",
       "                                ...   \n",
       "Yemen        Import           22297.36\n",
       "Zambia       Export           35590.79\n",
       "             Import           14726.31\n",
       "Zimbabwe     Export            8352.70\n",
       "             Import           30677.25\n",
       "Name: Value, Length: 473, dtype: float64"
      ]
     },
     "execution_count": 73,
     "metadata": {},
     "output_type": "execute_result"
    }
   ],
   "source": [
    "#export and import values country wise\n",
    "print(\"Total values of export and import values country wise\")\n",
    "my_data.groupby(['Country','Import_Export'])['Value'].sum()"
   ]
  },
  {
   "cell_type": "code",
   "execution_count": 75,
   "id": "49dbfc79-9758-4512-a058-d99d31629314",
   "metadata": {
    "colab": {
     "base_uri": "https://localhost:8080/",
     "height": 308
    },
    "id": "49dbfc79-9758-4512-a058-d99d31629314",
    "outputId": "93f9620a-d533-4ad6-d8de-362145816b59"
   },
   "outputs": [
    {
     "name": "stdout",
     "output_type": "stream",
     "text": [
      "5 Country with max total value of import\n",
      "\n"
     ]
    },
    {
     "data": {
      "text/plain": [
       "Country\n",
       "Congo            76171.28\n",
       "Turkmenistan     55259.62\n",
       "Korea            53075.04\n",
       "Faroe Islands    52388.19\n",
       "Bolivia          50008.30\n",
       "Name: Value, dtype: float64"
      ]
     },
     "execution_count": 75,
     "metadata": {},
     "output_type": "execute_result"
    }
   ],
   "source": [
    "# 5 Country with max total value of import\n",
    "print(\"5 Country with max total value of import\\n\")\n",
    "my_data[my_data['Import_Export'] == 'Import'].groupby('Country')['Value'].sum().sort_values(ascending = False).head()"
   ]
  },
  {
   "cell_type": "code",
   "execution_count": 77,
   "id": "dT5knW97dvJE",
   "metadata": {
    "colab": {
     "base_uri": "https://localhost:8080/",
     "height": 308
    },
    "id": "dT5knW97dvJE",
    "outputId": "2f7ce22a-c2b4-4845-e1c7-7b4e22ec6be2"
   },
   "outputs": [
    {
     "name": "stdout",
     "output_type": "stream",
     "text": [
      "5 Country with max total value of export\n",
      "\n"
     ]
    },
    {
     "data": {
      "text/plain": [
       "Country\n",
       "Finland          75398.82\n",
       "Cote d'Ivoire    69515.24\n",
       "Qatar            56858.75\n",
       "French Guiana    52155.06\n",
       "Niger            50078.87\n",
       "Name: Value, dtype: float64"
      ]
     },
     "execution_count": 77,
     "metadata": {},
     "output_type": "execute_result"
    }
   ],
   "source": [
    "# 5 Country with max total value of export\n",
    "print(\"5 Country with max total value of export\\n\")\n",
    "my_data[my_data['Import_Export'] == 'Export'].groupby('Country')['Value'].sum().sort_values(ascending = False).head()"
   ]
  },
  {
   "cell_type": "code",
   "execution_count": 79,
   "id": "4fe589af-8cef-464a-bb07-5b2a380476e1",
   "metadata": {
    "colab": {
     "base_uri": "https://localhost:8080/",
     "height": 308
    },
    "id": "4fe589af-8cef-464a-bb07-5b2a380476e1",
    "outputId": "ec2d67af-9df0-4fec-8a4a-545195ae30ac"
   },
   "outputs": [
    {
     "name": "stdout",
     "output_type": "stream",
     "text": [
      "Top 5 countries with max average value per transaction against import\n",
      "\n"
     ]
    },
    {
     "data": {
      "text/plain": [
       "Country\n",
       "Dominican Republic                      9499.520000\n",
       "Fiji                                    9218.165000\n",
       "Jordan                                  8878.670000\n",
       "United States Minor Outlying Islands    8801.866667\n",
       "Solomon Islands                         8424.636667\n",
       "Name: Value, dtype: float64"
      ]
     },
     "execution_count": 79,
     "metadata": {},
     "output_type": "execute_result"
    }
   ],
   "source": [
    "# Top 5 countries with max average value per transaction against import\n",
    "print(\"Top 5 countries with max average value per transaction against import\\n\")\n",
    "my_data[my_data['Import_Export'] == 'Import'].groupby('Country')['Value'].mean().sort_values(ascending = False).head()"
   ]
  },
  {
   "cell_type": "code",
   "execution_count": 81,
   "id": "_nTIkW4Odrts",
   "metadata": {
    "colab": {
     "base_uri": "https://localhost:8080/",
     "height": 308
    },
    "id": "_nTIkW4Odrts",
    "outputId": "668b468a-0fca-44db-e2fb-afb0a6f75c67"
   },
   "outputs": [
    {
     "name": "stdout",
     "output_type": "stream",
     "text": [
      "Top 5 countries with max average value per transaction against export\n",
      "\n"
     ]
    },
    {
     "data": {
      "text/plain": [
       "Country\n",
       "French Southern Territories    9884.320\n",
       "Saint Pierre and Miquelon      9477.130\n",
       "Sao Tome and Principe          9370.410\n",
       "Djibouti                       9195.220\n",
       "Belgium                        8950.475\n",
       "Name: Value, dtype: float64"
      ]
     },
     "execution_count": 81,
     "metadata": {},
     "output_type": "execute_result"
    }
   ],
   "source": [
    "# Top 5 countries with max average value per transaction against export\n",
    "print(\"Top 5 countries with max average value per transaction against export\\n\")\n",
    "my_data[my_data['Import_Export'] == 'Export'].groupby('Country')['Value'].mean().sort_values(ascending = False).head()"
   ]
  },
  {
   "cell_type": "code",
   "execution_count": 85,
   "id": "WiVxQ2aKZSu0",
   "metadata": {
    "colab": {
     "base_uri": "https://localhost:8080/",
     "height": 526
    },
    "id": "WiVxQ2aKZSu0",
    "outputId": "b4824a2e-77bf-4104-b1b0-8bcee14393f1"
   },
   "outputs": [
    {
     "name": "stdout",
     "output_type": "stream",
     "text": [
      "Country wise Shipment methods count\n",
      "\n"
     ]
    },
    {
     "data": {
      "text/plain": [
       "Country      Shipping_Method\n",
       "Afghanistan  Air                1\n",
       "             Land               1\n",
       "             Sea                2\n",
       "Albania      Land               3\n",
       "             Sea                4\n",
       "                               ..\n",
       "Zambia       Land               4\n",
       "             Sea                4\n",
       "Zimbabwe     Air                3\n",
       "             Land               3\n",
       "             Sea                3\n",
       "Name: count, Length: 680, dtype: int64"
      ]
     },
     "execution_count": 85,
     "metadata": {},
     "output_type": "execute_result"
    }
   ],
   "source": [
    "# Country wise Shipment methods count\n",
    "print(\"Country wise Shipment methods count\\n\")\n",
    "my_data.groupby(['Country','Shipping_Method'])['Shipping_Method'].value_counts()"
   ]
  },
  {
   "cell_type": "code",
   "execution_count": 89,
   "id": "Zl6g3vLDbI4D",
   "metadata": {
    "colab": {
     "base_uri": "https://localhost:8080/",
     "height": 442
    },
    "id": "Zl6g3vLDbI4D",
    "outputId": "7ff99a34-4a84-42b2-cac4-f31c13d2819f"
   },
   "outputs": [
    {
     "name": "stdout",
     "output_type": "stream",
     "text": [
      "Most preferred shipping type grouped by countries\n"
     ]
    },
    {
     "data": {
      "text/html": [
       "<div>\n",
       "<style scoped>\n",
       "    .dataframe tbody tr th:only-of-type {\n",
       "        vertical-align: middle;\n",
       "    }\n",
       "\n",
       "    .dataframe tbody tr th {\n",
       "        vertical-align: top;\n",
       "    }\n",
       "\n",
       "    .dataframe thead th {\n",
       "        text-align: right;\n",
       "    }\n",
       "</style>\n",
       "<table border=\"1\" class=\"dataframe\">\n",
       "  <thead>\n",
       "    <tr style=\"text-align: right;\">\n",
       "      <th></th>\n",
       "      <th>Country</th>\n",
       "      <th>Shipping_Method</th>\n",
       "      <th>Count</th>\n",
       "    </tr>\n",
       "  </thead>\n",
       "  <tbody>\n",
       "    <tr>\n",
       "      <th>2</th>\n",
       "      <td>Afghanistan</td>\n",
       "      <td>Sea</td>\n",
       "      <td>2</td>\n",
       "    </tr>\n",
       "    <tr>\n",
       "      <th>4</th>\n",
       "      <td>Albania</td>\n",
       "      <td>Sea</td>\n",
       "      <td>4</td>\n",
       "    </tr>\n",
       "    <tr>\n",
       "      <th>5</th>\n",
       "      <td>Algeria</td>\n",
       "      <td>Air</td>\n",
       "      <td>4</td>\n",
       "    </tr>\n",
       "    <tr>\n",
       "      <th>8</th>\n",
       "      <td>American Samoa</td>\n",
       "      <td>Air</td>\n",
       "      <td>4</td>\n",
       "    </tr>\n",
       "    <tr>\n",
       "      <th>13</th>\n",
       "      <td>Andorra</td>\n",
       "      <td>Sea</td>\n",
       "      <td>4</td>\n",
       "    </tr>\n",
       "    <tr>\n",
       "      <th>...</th>\n",
       "      <td>...</td>\n",
       "      <td>...</td>\n",
       "      <td>...</td>\n",
       "    </tr>\n",
       "    <tr>\n",
       "      <th>665</th>\n",
       "      <td>Wallis and Futuna</td>\n",
       "      <td>Air</td>\n",
       "      <td>3</td>\n",
       "    </tr>\n",
       "    <tr>\n",
       "      <th>669</th>\n",
       "      <td>Western Sahara</td>\n",
       "      <td>Land</td>\n",
       "      <td>3</td>\n",
       "    </tr>\n",
       "    <tr>\n",
       "      <th>673</th>\n",
       "      <td>Yemen</td>\n",
       "      <td>Sea</td>\n",
       "      <td>3</td>\n",
       "    </tr>\n",
       "    <tr>\n",
       "      <th>674</th>\n",
       "      <td>Zambia</td>\n",
       "      <td>Air</td>\n",
       "      <td>4</td>\n",
       "    </tr>\n",
       "    <tr>\n",
       "      <th>677</th>\n",
       "      <td>Zimbabwe</td>\n",
       "      <td>Air</td>\n",
       "      <td>3</td>\n",
       "    </tr>\n",
       "  </tbody>\n",
       "</table>\n",
       "<p>242 rows × 3 columns</p>\n",
       "</div>"
      ],
      "text/plain": [
       "               Country Shipping_Method  Count\n",
       "2          Afghanistan             Sea      2\n",
       "4              Albania             Sea      4\n",
       "5              Algeria             Air      4\n",
       "8       American Samoa             Air      4\n",
       "13             Andorra             Sea      4\n",
       "..                 ...             ...    ...\n",
       "665  Wallis and Futuna             Air      3\n",
       "669     Western Sahara            Land      3\n",
       "673              Yemen             Sea      3\n",
       "674             Zambia             Air      4\n",
       "677           Zimbabwe             Air      3\n",
       "\n",
       "[242 rows x 3 columns]"
      ]
     },
     "execution_count": 89,
     "metadata": {},
     "output_type": "execute_result"
    }
   ],
   "source": [
    "# Most preferred shipping type grouped by countries\n",
    "country_shipping_count = my_data.groupby(['Country','Shipping_Method'])['Shipping_Method'].value_counts().reset_index(name='Count')\n",
    "print(\"Most preferred shipping type grouped by countries\")\n",
    "country_shipping_count.loc[country_shipping_count.groupby(['Country'])['Count'].idxmax()]"
   ]
  },
  {
   "cell_type": "code",
   "execution_count": 91,
   "id": "9VvweAZ2dA_y",
   "metadata": {
    "colab": {
     "base_uri": "https://localhost:8080/",
     "height": 482
    },
    "id": "9VvweAZ2dA_y",
    "outputId": "ac17df23-5289-490d-da55-03c86965675b"
   },
   "outputs": [
    {
     "name": "stderr",
     "output_type": "stream",
     "text": [
      "/var/folders/0k/z2n60yd12t17w93sm1_0gp040000gn/T/ipykernel_10516/738847319.py:2: FutureWarning: The provided callable <function sum at 0x108a03560> is currently using SeriesGroupBy.sum. In a future version of pandas, the provided callable will be used directly. To keep current behavior pass the string \"sum\" instead.\n",
      "  supplier_trade = my_data.groupby('Supplier').agg({'Value': [np.sum, 'count']})\n"
     ]
    },
    {
     "data": {
      "text/html": [
       "<div>\n",
       "<style scoped>\n",
       "    .dataframe tbody tr th:only-of-type {\n",
       "        vertical-align: middle;\n",
       "    }\n",
       "\n",
       "    .dataframe tbody tr th {\n",
       "        vertical-align: top;\n",
       "    }\n",
       "\n",
       "    .dataframe thead tr th {\n",
       "        text-align: left;\n",
       "    }\n",
       "\n",
       "    .dataframe thead tr:last-of-type th {\n",
       "        text-align: right;\n",
       "    }\n",
       "</style>\n",
       "<table border=\"1\" class=\"dataframe\">\n",
       "  <thead>\n",
       "    <tr>\n",
       "      <th></th>\n",
       "      <th colspan=\"2\" halign=\"left\">Value</th>\n",
       "    </tr>\n",
       "    <tr>\n",
       "      <th></th>\n",
       "      <th>sum</th>\n",
       "      <th>count</th>\n",
       "    </tr>\n",
       "    <tr>\n",
       "      <th>Supplier</th>\n",
       "      <th></th>\n",
       "      <th></th>\n",
       "    </tr>\n",
       "  </thead>\n",
       "  <tbody>\n",
       "    <tr>\n",
       "      <th>Johnson Inc</th>\n",
       "      <td>24725.31</td>\n",
       "      <td>3</td>\n",
       "    </tr>\n",
       "    <tr>\n",
       "      <th>Anderson PLC</th>\n",
       "      <td>22284.65</td>\n",
       "      <td>4</td>\n",
       "    </tr>\n",
       "    <tr>\n",
       "      <th>Miller and Sons</th>\n",
       "      <td>21382.67</td>\n",
       "      <td>3</td>\n",
       "    </tr>\n",
       "    <tr>\n",
       "      <th>Brown PLC</th>\n",
       "      <td>19343.26</td>\n",
       "      <td>3</td>\n",
       "    </tr>\n",
       "    <tr>\n",
       "      <th>Williams LLC</th>\n",
       "      <td>19319.89</td>\n",
       "      <td>4</td>\n",
       "    </tr>\n",
       "    <tr>\n",
       "      <th>Baker Inc</th>\n",
       "      <td>19279.08</td>\n",
       "      <td>2</td>\n",
       "    </tr>\n",
       "    <tr>\n",
       "      <th>Wilson LLC</th>\n",
       "      <td>18653.72</td>\n",
       "      <td>3</td>\n",
       "    </tr>\n",
       "    <tr>\n",
       "      <th>Rivera Ltd</th>\n",
       "      <td>17358.04</td>\n",
       "      <td>3</td>\n",
       "    </tr>\n",
       "    <tr>\n",
       "      <th>Kim LLC</th>\n",
       "      <td>16347.34</td>\n",
       "      <td>2</td>\n",
       "    </tr>\n",
       "    <tr>\n",
       "      <th>Taylor Group</th>\n",
       "      <td>16186.10</td>\n",
       "      <td>2</td>\n",
       "    </tr>\n",
       "  </tbody>\n",
       "</table>\n",
       "</div>"
      ],
      "text/plain": [
       "                    Value      \n",
       "                      sum count\n",
       "Supplier                       \n",
       "Johnson Inc      24725.31     3\n",
       "Anderson PLC     22284.65     4\n",
       "Miller and Sons  21382.67     3\n",
       "Brown PLC        19343.26     3\n",
       "Williams LLC     19319.89     4\n",
       "Baker Inc        19279.08     2\n",
       "Wilson LLC       18653.72     3\n",
       "Rivera Ltd       17358.04     3\n",
       "Kim LLC          16347.34     2\n",
       "Taylor Group     16186.10     2"
      ]
     },
     "execution_count": 91,
     "metadata": {},
     "output_type": "execute_result"
    }
   ],
   "source": [
    "# Group by Supplier to calculate total value and count of transactions\n",
    "supplier_trade = my_data.groupby('Supplier').agg({'Value': [np.sum, 'count']})\n",
    "\n",
    "# Sort suppliers by total value in descending order\n",
    "sorted_supplier_trade = supplier_trade.sort_values(by=('Value', 'sum'), ascending=False)\n",
    "\n",
    "# Show the top 10 suppliers by value\n",
    "sorted_supplier_trade.head(10)\n"
   ]
  },
  {
   "cell_type": "markdown",
   "id": "b4652f4e-d3cd-40e7-a0e3-6c74e6a6a2fe",
   "metadata": {
    "id": "J5Poz90tdU-i"
   },
   "source": [
    "---"
   ]
  },
  {
   "cell_type": "markdown",
   "id": "0329796d-6b75-4ed5-9315-2abdbcbbc9cf",
   "metadata": {},
   "source": [
    "**Findings**\n",
    "\n",
    "\n",
    "*  **Kurtosis Analysis:**  Kurtosis analysis was performed on values, weights, and quantities to understand their distribution. Higher kurtosis indicates more outliers.\n",
    "*  **Skewness analysis:**  Skewness analysis was performed on values, weights, and quantities for each category. A positive skew suggests a long tail on the right side of the distribution, whereas a negative skew indicates a long tail on the left.\n",
    "*  **Shipping Preference:**  We discovered the most favored shipping method for each category by evaluating usage. The investigation also revealed which products in each category used the recommended shipping option the most.\n",
    "*  **Confidence Interval Calculations:** We calculated confidence intervals for quantity, value, and weight. This provides a range within which the true mean of these variables is expected to fall, allowing for a statistical evaluation of the estimates' precision.\n",
    "\n",
    "\n",
    "**Observation**\n",
    "\n",
    "\n",
    "*  **Trade Dynamics:** Trade operations follow a defined pattern, with specific product categories dominating in terms of value and quantity.\n",
    "*  **Shipping Method Efficiency:** Different categories choose different delivery methods, implying that the efficacy of shipping methods varies greatly depending on the goods.\n",
    "*  **Distribution Insights:** The skewness and kurtosis analyses show that the distribution of trade data (such as quantity and value) is not necessarily symmetric, with large outliers influencing trade statistics.\n",
    "\n",
    "\n",
    "---\n",
    "\n",
    " \n"
   ]
  },
  {
   "cell_type": "markdown",
   "id": "bf705d92-26e6-4287-9dd1-7cdccd389dd6",
   "metadata": {},
   "source": [
    "**Managerial Insights**\n",
    "\n",
    "*  **Performance Benchmarking**\n",
    "     *  **Set Benchmarks for Key Metrics:** Use the statistical insights (e.g., confidence intervals, kurtosis, skewness) to set benchmarks for acceptable performance levels. Regularly compare actual performance against these benchmarks to identify areas needing improvement.\n",
    "     *  **Continuous Monitoring and Adaptation:** Regularly updating and reviewing the dataset and its analysis will enable managers to adapt to changing market conditions and make informed, agile decisions.\n",
    "\n",
    "\n",
    "*  **Data-Driven Decision Making**\n",
    "     *  **Utilize Predictive Analytics:** The correlation analysis between value, quantity, and weight can be leveraged to forecast demand more accurately. Managers can use this data to plan production schedules, manage resources, and optimize supply chain operations.\n",
    "     *  **Refine Pricing and Promotion Strategies:** Understanding the relationship between transaction value and other variables enables more effective pricing strategies. Managers can set competitive prices and design promotions that align with customer demand and market conditions.\n",
    "\n",
    "\n",
    "*  **Shipping Method Efficiency**\n",
    "     *  **Optimize Shipping Strategies:** The preference for specific shipping methods by product category suggests that one size does not fit all. Managers should analyze shipping costs, transit times, and reliability for different categories to optimize logistics. This could involve renegotiating contracts with shipping providers or exploring alternative methods for cost savings.\n",
    "     *  **Balance Cost and Speed:** For high-value but time-sensitive products, prioritize speed over cost. For low-value or non-urgent items, focus on cost-efficiency. Align shipping strategies with the nature of the product to enhance customer satisfaction and reduce expenses.\n",
    "\n",
    "\n",
    "*  **Product and Category Focus**\n",
    "     *  **Optimize Inventory for High-Contributing Categories:** The analysis highlights certain product categories that dominate in terms of trade volume and value. Managers should focus on optimizing inventory levels and supply chain strategies for these high-performing categories to maximize revenue and reduce holding costs.\n",
    "     *  **Target Underperforming Categories:** Identify categories with low trade volume but high market potential. Develop strategies such as targeted marketing, partnerships, or pricing adjustments to increase their contribution to the business.\n",
    "\n",
    "\n",
    "**Recomendations**\n",
    "\n",
    "\n",
    "*  **Leverage Technology for Data-Driven Decisions**\n",
    "     *  **Implement Predictive Analytics:** Use predictive models to forecast demand for different product categories. This will enable better inventory planning, reduce stockouts, and minimize excess inventory.\n",
    "     *  **Automate Reporting and Analysis:** Invest in business intelligence tools to automate data collection, analysis, and reporting. This will provide real-time insights, enabling quicker decision-making.\n",
    "\n",
    "\n",
    "*  **Sustainability and Cost Efficiency**\n",
    "     *  **Adopt Green Logistics:** Explore eco-friendly shipping options and packaging materials to reduce the environmental impact. This not only aligns with sustainability goals but also enhances brand image.\n",
    "     *  **Energy and Resource Optimization:** Implement energy-efficient practices in warehouses and distribution centers. Use technology to monitor and optimize resource usage, reducing operational costs.\n",
    "\n",
    "\n",
    "*  **Performance Monitoring and Continuous Improvement**\n",
    "     *  **Set Performance KPIs:** Establish key performance indicators (KPIs) for logistics, sales, and customer satisfaction. Regularly review these metrics to ensure alignment with business objectives.\n",
    "     *  **Feedback Loop for Improvement:** Implement a system for gathering feedback from customers, suppliers, and internal teams. Use this feedback to continuously refine processes, products, and services.\n",
    "\n",
    "\n",
    "---\n",
    "\n",
    "\n",
    "\n"
   ]
  },
  {
   "cell_type": "markdown",
   "id": "3d179d16-5a09-4737-a4bf-f804de904046",
   "metadata": {},
   "source": [
    "**Conclusion**\n",
    "\n",
    "The analysis conducted using Python provided a comprehensive understanding of the trade dynamics captured in the dataset. By leveraging various statistical techniques and data manipulation tools, the study identified key product categories and shipping methods contributing to trade volume and value. The use of statistical measures like kurtosis and skewness offered insights into the distribution characteristics of variables such as value, weight, and quantity, highlighting potential outliers and asymmetries in the data. Moreover, calculating confidence intervals for these variables provided a reliable range for making informed predictions and assessing data precision.\n",
    "\n",
    "\n",
    "---"
   ]
  },
  {
   "cell_type": "code",
   "execution_count": null,
   "id": "8d95af25-68b6-441e-85b1-f9e010f25997",
   "metadata": {},
   "outputs": [],
   "source": []
  }
 ],
 "metadata": {
  "colab": {
   "provenance": []
  },
  "kernelspec": {
   "display_name": "Python 3 (ipykernel)",
   "language": "python",
   "name": "python3"
  },
  "language_info": {
   "codemirror_mode": {
    "name": "ipython",
    "version": 3
   },
   "file_extension": ".py",
   "mimetype": "text/x-python",
   "name": "python",
   "nbconvert_exporter": "python",
   "pygments_lexer": "ipython3",
   "version": "3.12.4"
  }
 },
 "nbformat": 4,
 "nbformat_minor": 5
}
